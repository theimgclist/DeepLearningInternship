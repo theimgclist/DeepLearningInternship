{
 "cells": [
  {
   "cell_type": "markdown",
   "metadata": {},
   "source": [
    "##### Session 2 - Assignment  \n",
    "In this notebook, I will re-run an existing notebook on the basics of Python and Numpy.  \n",
    "The original notebook used for the assignment is taken from CS231n.  \n",
    "[https://github.com/machinelearningblr/machinelearningblr.github.io/blob/master/tutorials/CS231n-Materials/CS231n-python-numpy-tutorial.ipynb]  "
   ]
  },
  {
   "cell_type": "markdown",
   "metadata": {},
   "source": [
    "###### In the below cell, we are implementing quicksort algorithm using Python  \n",
    "I will be using the following as variable names and prefixes, to replace existing variable names in the original notebook:  \n",
    "eip, mlblr, eip_in, eip_out, mlblr_in, mlblr_out, eip_list, eip_dict."
   ]
  },
  {
   "cell_type": "code",
   "execution_count": 29,
   "metadata": {
    "collapsed": false
   },
   "outputs": [
    {
     "name": "stdout",
     "output_type": "stream",
     "text": [
      "[0, 1, 1, 4, 8, 9, 9, 12]\n"
     ]
    }
   ],
   "source": [
    "def quicksort(eip_arr):\n",
    "    if len(eip_arr) <= 1:\n",
    "        return eip_arr\n",
    "    eip_pivot = eip_arr[len(eip_arr) // 2]\n",
    "    # note the difference : 1/2 = 0.5, 1//2 = 0\n",
    "    eip_left = [eip_x for eip_x in eip_arr if eip_x < eip_pivot]\n",
    "    eip_middle = [eip_x for eip_x in eip_arr if eip_x == eip_pivot]\n",
    "    eip_right = [eip_x for eip_x in eip_arr if eip_x > eip_pivot]\n",
    "    return quicksort(eip_left) + eip_middle + quicksort(eip_right)\n",
    "\n",
    "print(quicksort([12,9,4,8,9,0,1,1]))\n"
   ]
  },
  {
   "cell_type": "code",
   "execution_count": 6,
   "metadata": {
    "collapsed": false
   },
   "outputs": [
    {
     "name": "stderr",
     "output_type": "stream",
     "text": [
      "Python 3.6.2 :: Continuum Analytics, Inc.\n"
     ]
    }
   ],
   "source": [
    "# To check Python version, use the below code\n",
    "!python --version"
   ]
  },
  {
   "cell_type": "code",
   "execution_count": 30,
   "metadata": {
    "collapsed": false
   },
   "outputs": [
    {
     "name": "stdout",
     "output_type": "stream",
     "text": [
      "<class 'int'>\n",
      "6\n",
      "7\n",
      "5\n",
      "12\n",
      "36\n",
      "7\n",
      "14\n",
      "<class 'float'>\n",
      "2.5 3.5 5.0 6.25\n"
     ]
    }
   ],
   "source": [
    "mlblr_x = 6\n",
    "print(type(mlblr_x))\n",
    "print(mlblr_x)\n",
    "print(mlblr_x + 1)\n",
    "print(mlblr_x - 1)\n",
    "print(mlblr_x * 2)\n",
    "print(mlblr_x ** 2)\n",
    "mlblr_x += 1 #shorthand representation\n",
    "print(mlblr_x)\n",
    "mlblr_x *= 2 #shorthand representation\n",
    "print(mlblr_x)\n",
    "mlblr_y = 2.5\n",
    "print(type(mlblr_y))\n",
    "print(mlblr_y, mlblr_y+1, mlblr_y * 2, mlblr_y **2)"
   ]
  },
  {
   "cell_type": "markdown",
   "metadata": {},
   "source": [
    "#### Unary operators like ++ and -- are not used in Python"
   ]
  },
  {
   "cell_type": "code",
   "execution_count": 8,
   "metadata": {
    "collapsed": false
   },
   "outputs": [
    {
     "name": "stdout",
     "output_type": "stream",
     "text": [
      "<class 'bool'>\n",
      "False\n",
      "True\n",
      "False\n",
      "True\n"
     ]
    }
   ],
   "source": [
    "mlblr_t = True\n",
    "mlblr_f = False\n",
    "print(type(mlblr_t))\n",
    "print(mlblr_t and mlblr_f)\n",
    "print(mlblr_t or mlblr_f)\n",
    "print(not mlblr_t)\n",
    "print(mlblr_t != mlblr_f)"
   ]
  },
  {
   "cell_type": "markdown",
   "metadata": {},
   "source": [
    "#### In Python we use and, or, not instead of & | !"
   ]
  },
  {
   "cell_type": "code",
   "execution_count": 10,
   "metadata": {
    "collapsed": false
   },
   "outputs": [
    {
     "name": "stdout",
     "output_type": "stream",
     "text": [
      "hello\n",
      "5\n",
      "hello world\n",
      "hello world 12\n"
     ]
    }
   ],
   "source": [
    "eip_hello = 'hello' # can use both single and double quotes for string constant\n",
    "eip_world = \"world\"\n",
    "print(eip_hello)\n",
    "print(len(eip_hello))\n",
    "eip_hw = eip_hello + ' ' + eip_world # string concatenation\n",
    "print(eip_hw)\n",
    "eip_hw12 = '%s %s %d' %(eip_hello,eip_world, 12) # string formatting\n",
    "print(eip_hw12)"
   ]
  },
  {
   "cell_type": "code",
   "execution_count": 31,
   "metadata": {
    "collapsed": false
   },
   "outputs": [
    {
     "name": "stdout",
     "output_type": "stream",
     "text": [
      "Hello\n",
      "HELLO\n",
      "    hello\n",
      "  hello  \n",
      "he(ell)(ell)o\n",
      "world\n"
     ]
    }
   ],
   "source": [
    "eip_s = \"hello\"\n",
    "print(eip_s.capitalize()) # capitalize the word, make its first letter capital\n",
    "print(eip_s.upper()) # convert all characters to upper case\n",
    "print(eip_s.rjust(9)) # padding on left with spaces\n",
    "print(eip_s.center(9)) # string at center and padding on either sides\n",
    "print(eip_s.replace('l','(ell)')) # every occurence of character l is replaced with (ell)\n",
    "print('   world  '.strip()) # removes spaces from string"
   ]
  },
  {
   "cell_type": "markdown",
   "metadata": {},
   "source": [
    "#### List in Python is equivalent to an aray, but in Python lists are resizable and can be heterogeneous"
   ]
  },
  {
   "cell_type": "code",
   "execution_count": 33,
   "metadata": {
    "collapsed": false
   },
   "outputs": [
    {
     "name": "stdout",
     "output_type": "stream",
     "text": [
      "[4, 7, 9] 9\n",
      "9\n",
      "[4, 7, 'foo']\n",
      "[4, 7, 'foo', 'bar']\n",
      "bar [4, 7, 'foo']\n"
     ]
    }
   ],
   "source": [
    "list_xs = [4,7,9]\n",
    "print(list_xs, list_xs[2])\n",
    "print(list_xs[-1]) # Negative indices start from the right end, prints the last element\n",
    "list_xs[2] = 'foo' # modifies list, foo replaces 9\n",
    "print(list_xs)\n",
    "list_xs.append('bar') # adds new item to the list at the end\n",
    "print(list_xs)\n",
    "list_x = list_xs.pop() # removes and returns the last element\n",
    "print(list_x, list_xs)"
   ]
  },
  {
   "cell_type": "code",
   "execution_count": 35,
   "metadata": {
    "collapsed": false
   },
   "outputs": [
    {
     "name": "stdout",
     "output_type": "stream",
     "text": [
      "[0, 1, 2, 3, 4]\n",
      "[2, 3]\n",
      "[2, 3, 4]\n",
      "[0, 1]\n",
      "[0, 1, 2, 3, 4]\n",
      "[0, 1, 2, 3]\n",
      "[0, 1, 8, 9, 4]\n"
     ]
    }
   ],
   "source": [
    "eip_nums = list(range(5)) # range returns a list of numbers, 0 to 4 in this example\n",
    "print(eip_nums)\n",
    "print(eip_nums[2:4]) # prints from index 2 to 3 since its exclusive index 4 is left out\n",
    "print(eip_nums[2:]) # prints from index 2 till the end\n",
    "print(eip_nums[:2]) # from index 0 till 2(exclusive)\n",
    "print(eip_nums[:]) # full list is printed\n",
    "print(eip_nums[:-1]) # from index 0 till last index(exclusive)\n",
    "eip_nums[2:4] = [8,9] # replace elements at index 2 and 3 with values 8 and 9\n",
    "print(eip_nums)"
   ]
  },
  {
   "cell_type": "code",
   "execution_count": 19,
   "metadata": {
    "collapsed": false
   },
   "outputs": [
    {
     "name": "stdout",
     "output_type": "stream",
     "text": [
      "dog\n",
      "cat\n",
      "fish\n"
     ]
    }
   ],
   "source": [
    "mlblr_animals = {'cat','dog','fish'}\n",
    "for mlblr_animal in mlblr_animals:\n",
    "    print(mlblr_animal)"
   ]
  },
  {
   "cell_type": "code",
   "execution_count": 20,
   "metadata": {
    "collapsed": false
   },
   "outputs": [
    {
     "name": "stdout",
     "output_type": "stream",
     "text": [
      "{0, 1, 2, 3, 4, 5}\n"
     ]
    }
   ],
   "source": [
    "from math import sqrt\n",
    "eip_nums = {int(sqrt(mlblr_x)) for mlblr_x in range(30)}\n",
    "print(eip_nums)"
   ]
  },
  {
   "cell_type": "code",
   "execution_count": 21,
   "metadata": {
    "collapsed": false
   },
   "outputs": [
    {
     "name": "stdout",
     "output_type": "stream",
     "text": [
      "#1: dog\n",
      "#2: cat\n",
      "#3: fish\n"
     ]
    }
   ],
   "source": [
    "mlblr_animals = {'cat','dog','fish'}\n",
    "for mlblr_idx, mlblr_animal in enumerate(mlblr_animals):\n",
    "    print('#%d: %s'%(mlblr_idx + 1, mlblr_animal))"
   ]
  },
  {
   "cell_type": "code",
   "execution_count": 22,
   "metadata": {
    "collapsed": false
   },
   "outputs": [
    {
     "name": "stdout",
     "output_type": "stream",
     "text": [
      "[0, 1, 4, 9, 16]\n"
     ]
    }
   ],
   "source": [
    "eip_nums = [0,1,2,3,4]\n",
    "eip_squares = []\n",
    "for eip_x in eip_nums:\n",
    "    eip_squares.append(eip_x ** 2)\n",
    "print(eip_squares)"
   ]
  },
  {
   "cell_type": "code",
   "execution_count": 24,
   "metadata": {
    "collapsed": false
   },
   "outputs": [
    {
     "name": "stdout",
     "output_type": "stream",
     "text": [
      "[0, 1, 4, 9, 16]\n"
     ]
    }
   ],
   "source": [
    "eip_in = [0,1,2,3,4]\n",
    "eip_even_squares = [eip_x ** 2 for eip_x in eip_nums]\n",
    "print(eip_even_squares)"
   ]
  },
  {
   "cell_type": "code",
   "execution_count": 23,
   "metadata": {
    "collapsed": false
   },
   "outputs": [
    {
     "name": "stdout",
     "output_type": "stream",
     "text": [
      "[0, 4, 16]\n"
     ]
    }
   ],
   "source": [
    "eip_in = [0,1,2,3,4]\n",
    "eip_even_squares = [eip_x ** 2 for eip_x in eip_nums if eip_x % 2 == 0]\n",
    "print(eip_even_squares)"
   ]
  },
  {
   "cell_type": "code",
   "execution_count": null,
   "metadata": {
    "collapsed": true
   },
   "outputs": [],
   "source": [
    "eip_dict = {'cat':'cute', 'dog':'furry'}\n",
    "print(eip_dict['cat'])\n",
    "print('cat' in eip_dict)\n",
    "eip_dict['fish'] = 'wet'\n",
    "print(eip_dict['fish'])\n",
    "# print(eip_dict['monkey']) -> causes an error and halts program execution\n",
    "print(eip_dict.get('monkey','N/A')) # though monkey doesnt exist, instead of halting the executin, it returns N/A\n",
    "print(eip_dict.get('fish','N/A'))\n",
    "del eip_dict['fish']\n",
    "print(eip_dict.get('fish','N/A'))"
   ]
  },
  {
   "cell_type": "code",
   "execution_count": 28,
   "metadata": {
    "collapsed": false
   },
   "outputs": [
    {
     "name": "stdout",
     "output_type": "stream",
     "text": [
      "A person has 2 legs\n",
      "A cat has 4 legs\n",
      "A spider has 8 legs\n"
     ]
    }
   ],
   "source": [
    "eip_dict = {'person': 2, 'cat': 4, 'spider': 8}\n",
    "for eip_animal in eip_dict:\n",
    "    eip_legs = eip_dict[eip_animal]\n",
    "    print('A %s has %d legs' %(eip_animal,eip_legs))"
   ]
  },
  {
   "cell_type": "code",
   "execution_count": 37,
   "metadata": {
    "collapsed": false
   },
   "outputs": [
    {
     "name": "stdout",
     "output_type": "stream",
     "text": [
      "{0: 0, 8: 64, 4: 16}\n"
     ]
    }
   ],
   "source": [
    "eip_in = [0,1,2,3,4]\n",
    "eip_even_squares = {eip_x: eip_x ** 2 for eip_x in eip_nums if eip_x % 2 == 0}\n",
    "print(eip_even_squares)"
   ]
  },
  {
   "cell_type": "markdown",
   "metadata": {},
   "source": [
    "For list comprehension we used []  \n",
    "For dictionary comprehension we use {}"
   ]
  },
  {
   "cell_type": "code",
   "execution_count": null,
   "metadata": {
    "collapsed": true
   },
   "outputs": [],
   "source": []
  },
  {
   "cell_type": "code",
   "execution_count": null,
   "metadata": {
    "collapsed": true
   },
   "outputs": [],
   "source": []
  },
  {
   "cell_type": "code",
   "execution_count": null,
   "metadata": {
    "collapsed": true
   },
   "outputs": [],
   "source": []
  },
  {
   "cell_type": "code",
   "execution_count": null,
   "metadata": {
    "collapsed": true
   },
   "outputs": [],
   "source": []
  },
  {
   "cell_type": "code",
   "execution_count": null,
   "metadata": {
    "collapsed": true
   },
   "outputs": [],
   "source": []
  },
  {
   "cell_type": "code",
   "execution_count": null,
   "metadata": {
    "collapsed": true
   },
   "outputs": [],
   "source": []
  },
  {
   "cell_type": "code",
   "execution_count": null,
   "metadata": {
    "collapsed": true
   },
   "outputs": [],
   "source": []
  },
  {
   "cell_type": "code",
   "execution_count": null,
   "metadata": {
    "collapsed": true
   },
   "outputs": [],
   "source": []
  },
  {
   "cell_type": "code",
   "execution_count": null,
   "metadata": {
    "collapsed": true
   },
   "outputs": [],
   "source": []
  },
  {
   "cell_type": "code",
   "execution_count": null,
   "metadata": {
    "collapsed": true
   },
   "outputs": [],
   "source": []
  },
  {
   "cell_type": "code",
   "execution_count": null,
   "metadata": {
    "collapsed": true
   },
   "outputs": [],
   "source": []
  },
  {
   "cell_type": "code",
   "execution_count": null,
   "metadata": {
    "collapsed": true
   },
   "outputs": [],
   "source": []
  },
  {
   "cell_type": "code",
   "execution_count": null,
   "metadata": {
    "collapsed": true
   },
   "outputs": [],
   "source": []
  }
 ],
 "metadata": {
  "kernelspec": {
   "display_name": "Python 3",
   "language": "python",
   "name": "python3"
  },
  "language_info": {
   "codemirror_mode": {
    "name": "ipython",
    "version": 3
   },
   "file_extension": ".py",
   "mimetype": "text/x-python",
   "name": "python",
   "nbconvert_exporter": "python",
   "pygments_lexer": "ipython3",
   "version": "3.6.2"
  }
 },
 "nbformat": 4,
 "nbformat_minor": 2
}
