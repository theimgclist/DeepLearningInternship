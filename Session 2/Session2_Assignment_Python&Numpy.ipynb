{
 "cells": [
  {
   "cell_type": "markdown",
   "metadata": {},
   "source": [
    "##### Session 2 - Assignment  \n",
    "In this notebook, I will re-run an existing notebook on the basics of Python and Numpy.  \n",
    "The original notebook used for the assignment is taken from CS231n.  \n",
    "[https://github.com/machinelearningblr/machinelearningblr.github.io/blob/master/tutorials/CS231n-Materials/CS231n-python-numpy-tutorial.ipynb]  "
   ]
  },
  {
   "cell_type": "markdown",
   "metadata": {},
   "source": [
    "###### In the below cell, we are implementing quicksort algorithm using Python  \n",
    "I will be using the following as variable names and prefixes, to replace existing variable names in the original notebook:  \n",
    "eip, mlblr, eip_in, eip_out, mlblr_in, mlblr_out, eip_list, eip_dict."
   ]
  },
  {
   "cell_type": "code",
   "execution_count": 29,
   "metadata": {
    "collapsed": false
   },
   "outputs": [
    {
     "name": "stdout",
     "output_type": "stream",
     "text": [
      "[0, 1, 1, 4, 8, 9, 9, 12]\n"
     ]
    }
   ],
   "source": [
    "def quicksort(eip_arr):\n",
    "    if len(eip_arr) <= 1:\n",
    "        return eip_arr\n",
    "    eip_pivot = eip_arr[len(eip_arr) // 2]\n",
    "    # note the difference : 1/2 = 0.5, 1//2 = 0\n",
    "    eip_left = [eip_x for eip_x in eip_arr if eip_x < eip_pivot]\n",
    "    eip_middle = [eip_x for eip_x in eip_arr if eip_x == eip_pivot]\n",
    "    eip_right = [eip_x for eip_x in eip_arr if eip_x > eip_pivot]\n",
    "    return quicksort(eip_left) + eip_middle + quicksort(eip_right)\n",
    "\n",
    "print(quicksort([12,9,4,8,9,0,1,1]))\n"
   ]
  },
  {
   "cell_type": "code",
   "execution_count": 6,
   "metadata": {
    "collapsed": false
   },
   "outputs": [
    {
     "name": "stderr",
     "output_type": "stream",
     "text": [
      "Python 3.6.2 :: Continuum Analytics, Inc.\n"
     ]
    }
   ],
   "source": [
    "# To check Python version, use the below code\n",
    "!python --version"
   ]
  },
  {
   "cell_type": "code",
   "execution_count": 30,
   "metadata": {
    "collapsed": false
   },
   "outputs": [
    {
     "name": "stdout",
     "output_type": "stream",
     "text": [
      "<class 'int'>\n",
      "6\n",
      "7\n",
      "5\n",
      "12\n",
      "36\n",
      "7\n",
      "14\n",
      "<class 'float'>\n",
      "2.5 3.5 5.0 6.25\n"
     ]
    }
   ],
   "source": [
    "mlblr_x = 6\n",
    "print(type(mlblr_x))\n",
    "print(mlblr_x)\n",
    "print(mlblr_x + 1)\n",
    "print(mlblr_x - 1)\n",
    "print(mlblr_x * 2)\n",
    "print(mlblr_x ** 2)\n",
    "mlblr_x += 1 #shorthand representation\n",
    "print(mlblr_x)\n",
    "mlblr_x *= 2 #shorthand representation\n",
    "print(mlblr_x)\n",
    "mlblr_y = 2.5\n",
    "print(type(mlblr_y))\n",
    "print(mlblr_y, mlblr_y+1, mlblr_y * 2, mlblr_y **2)"
   ]
  },
  {
   "cell_type": "markdown",
   "metadata": {},
   "source": [
    "#### Unary operators like ++ and -- are not used in Python"
   ]
  },
  {
   "cell_type": "code",
   "execution_count": 8,
   "metadata": {
    "collapsed": false
   },
   "outputs": [
    {
     "name": "stdout",
     "output_type": "stream",
     "text": [
      "<class 'bool'>\n",
      "False\n",
      "True\n",
      "False\n",
      "True\n"
     ]
    }
   ],
   "source": [
    "mlblr_t = True\n",
    "mlblr_f = False\n",
    "print(type(mlblr_t))\n",
    "print(mlblr_t and mlblr_f)\n",
    "print(mlblr_t or mlblr_f)\n",
    "print(not mlblr_t)\n",
    "print(mlblr_t != mlblr_f)"
   ]
  },
  {
   "cell_type": "markdown",
   "metadata": {},
   "source": [
    "#### In Python we use and, or, not instead of & | !"
   ]
  },
  {
   "cell_type": "code",
   "execution_count": 10,
   "metadata": {
    "collapsed": false
   },
   "outputs": [
    {
     "name": "stdout",
     "output_type": "stream",
     "text": [
      "hello\n",
      "5\n",
      "hello world\n",
      "hello world 12\n"
     ]
    }
   ],
   "source": [
    "eip_hello = 'hello' # can use both single and double quotes for string constant\n",
    "eip_world = \"world\"\n",
    "print(eip_hello)\n",
    "print(len(eip_hello))\n",
    "eip_hw = eip_hello + ' ' + eip_world # string concatenation\n",
    "print(eip_hw)\n",
    "eip_hw12 = '%s %s %d' %(eip_hello,eip_world, 12) # string formatting\n",
    "print(eip_hw12)"
   ]
  },
  {
   "cell_type": "code",
   "execution_count": 31,
   "metadata": {
    "collapsed": false
   },
   "outputs": [
    {
     "name": "stdout",
     "output_type": "stream",
     "text": [
      "Hello\n",
      "HELLO\n",
      "    hello\n",
      "  hello  \n",
      "he(ell)(ell)o\n",
      "world\n"
     ]
    }
   ],
   "source": [
    "eip_s = \"hello\"\n",
    "print(eip_s.capitalize()) # capitalize the word, make its first letter capital\n",
    "print(eip_s.upper()) # convert all characters to upper case\n",
    "print(eip_s.rjust(9)) # padding on left with spaces\n",
    "print(eip_s.center(9)) # string at center and padding on either sides\n",
    "print(eip_s.replace('l','(ell)')) # every occurence of character l is replaced with (ell)\n",
    "print('   world  '.strip()) # removes spaces from string"
   ]
  },
  {
   "cell_type": "markdown",
   "metadata": {},
   "source": [
    "#### List in Python is equivalent to an aray, but in Python lists are resizable and can be heterogeneous"
   ]
  },
  {
   "cell_type": "code",
   "execution_count": 33,
   "metadata": {
    "collapsed": false
   },
   "outputs": [
    {
     "name": "stdout",
     "output_type": "stream",
     "text": [
      "[4, 7, 9] 9\n",
      "9\n",
      "[4, 7, 'foo']\n",
      "[4, 7, 'foo', 'bar']\n",
      "bar [4, 7, 'foo']\n"
     ]
    }
   ],
   "source": [
    "list_xs = [4,7,9]\n",
    "print(list_xs, list_xs[2])\n",
    "print(list_xs[-1]) # Negative indices start from the right end, prints the last element\n",
    "list_xs[2] = 'foo' # modifies list, foo replaces 9\n",
    "print(list_xs)\n",
    "list_xs.append('bar') # adds new item to the list at the end\n",
    "print(list_xs)\n",
    "list_x = list_xs.pop() # removes and returns the last element\n",
    "print(list_x, list_xs)"
   ]
  },
  {
   "cell_type": "code",
   "execution_count": 35,
   "metadata": {
    "collapsed": false
   },
   "outputs": [
    {
     "name": "stdout",
     "output_type": "stream",
     "text": [
      "[0, 1, 2, 3, 4]\n",
      "[2, 3]\n",
      "[2, 3, 4]\n",
      "[0, 1]\n",
      "[0, 1, 2, 3, 4]\n",
      "[0, 1, 2, 3]\n",
      "[0, 1, 8, 9, 4]\n"
     ]
    }
   ],
   "source": [
    "eip_nums = list(range(5)) # range returns a list of numbers, 0 to 4 in this example\n",
    "print(eip_nums)\n",
    "print(eip_nums[2:4]) # prints from index 2 to 3 since its exclusive index 4 is left out\n",
    "print(eip_nums[2:]) # prints from index 2 till the end\n",
    "print(eip_nums[:2]) # from index 0 till 2(exclusive)\n",
    "print(eip_nums[:]) # full list is printed\n",
    "print(eip_nums[:-1]) # from index 0 till last index(exclusive)\n",
    "eip_nums[2:4] = [8,9] # replace elements at index 2 and 3 with values 8 and 9\n",
    "print(eip_nums)"
   ]
  },
  {
   "cell_type": "code",
   "execution_count": 19,
   "metadata": {
    "collapsed": false
   },
   "outputs": [
    {
     "name": "stdout",
     "output_type": "stream",
     "text": [
      "dog\n",
      "cat\n",
      "fish\n"
     ]
    }
   ],
   "source": [
    "mlblr_animals = {'cat','dog','fish'}\n",
    "for mlblr_animal in mlblr_animals:\n",
    "    print(mlblr_animal)"
   ]
  },
  {
   "cell_type": "code",
   "execution_count": 20,
   "metadata": {
    "collapsed": false
   },
   "outputs": [
    {
     "name": "stdout",
     "output_type": "stream",
     "text": [
      "{0, 1, 2, 3, 4, 5}\n"
     ]
    }
   ],
   "source": [
    "from math import sqrt\n",
    "eip_nums = {int(sqrt(mlblr_x)) for mlblr_x in range(30)}\n",
    "print(eip_nums)"
   ]
  },
  {
   "cell_type": "code",
   "execution_count": 21,
   "metadata": {
    "collapsed": false
   },
   "outputs": [
    {
     "name": "stdout",
     "output_type": "stream",
     "text": [
      "#1: dog\n",
      "#2: cat\n",
      "#3: fish\n"
     ]
    }
   ],
   "source": [
    "mlblr_animals = {'cat','dog','fish'}\n",
    "for mlblr_idx, mlblr_animal in enumerate(mlblr_animals):\n",
    "    print('#%d: %s'%(mlblr_idx + 1, mlblr_animal))"
   ]
  },
  {
   "cell_type": "code",
   "execution_count": 22,
   "metadata": {
    "collapsed": false
   },
   "outputs": [
    {
     "name": "stdout",
     "output_type": "stream",
     "text": [
      "[0, 1, 4, 9, 16]\n"
     ]
    }
   ],
   "source": [
    "eip_nums = [0,1,2,3,4]\n",
    "eip_squares = []\n",
    "for eip_x in eip_nums:\n",
    "    eip_squares.append(eip_x ** 2)\n",
    "print(eip_squares)"
   ]
  },
  {
   "cell_type": "code",
   "execution_count": 24,
   "metadata": {
    "collapsed": false
   },
   "outputs": [
    {
     "name": "stdout",
     "output_type": "stream",
     "text": [
      "[0, 1, 4, 9, 16]\n"
     ]
    }
   ],
   "source": [
    "eip_in = [0,1,2,3,4]\n",
    "eip_even_squares = [eip_x ** 2 for eip_x in eip_nums]\n",
    "print(eip_even_squares)"
   ]
  },
  {
   "cell_type": "code",
   "execution_count": 23,
   "metadata": {
    "collapsed": false
   },
   "outputs": [
    {
     "name": "stdout",
     "output_type": "stream",
     "text": [
      "[0, 4, 16]\n"
     ]
    }
   ],
   "source": [
    "eip_in = [0,1,2,3,4]\n",
    "eip_even_squares = [eip_x ** 2 for eip_x in eip_nums if eip_x % 2 == 0]\n",
    "print(eip_even_squares)"
   ]
  },
  {
   "cell_type": "code",
   "execution_count": null,
   "metadata": {
    "collapsed": true
   },
   "outputs": [],
   "source": [
    "eip_dict = {'cat':'cute', 'dog':'furry'}\n",
    "print(eip_dict['cat'])\n",
    "print('cat' in eip_dict)\n",
    "eip_dict['fish'] = 'wet'\n",
    "print(eip_dict['fish'])\n",
    "# print(eip_dict['monkey']) -> causes an error and halts program execution\n",
    "print(eip_dict.get('monkey','N/A')) # though monkey doesnt exist, instead of halting the executin, it returns N/A\n",
    "print(eip_dict.get('fish','N/A'))\n",
    "del eip_dict['fish']\n",
    "print(eip_dict.get('fish','N/A'))"
   ]
  },
  {
   "cell_type": "code",
   "execution_count": 28,
   "metadata": {
    "collapsed": false
   },
   "outputs": [
    {
     "name": "stdout",
     "output_type": "stream",
     "text": [
      "A person has 2 legs\n",
      "A cat has 4 legs\n",
      "A spider has 8 legs\n"
     ]
    }
   ],
   "source": [
    "eip_dict = {'person': 2, 'cat': 4, 'spider': 8}\n",
    "for eip_animal in eip_dict:\n",
    "    eip_legs = eip_dict[eip_animal]\n",
    "    print('A %s has %d legs' %(eip_animal,eip_legs))"
   ]
  },
  {
   "cell_type": "code",
   "execution_count": 37,
   "metadata": {
    "collapsed": false
   },
   "outputs": [
    {
     "name": "stdout",
     "output_type": "stream",
     "text": [
      "{0: 0, 8: 64, 4: 16}\n"
     ]
    }
   ],
   "source": [
    "eip_in = [0,1,2,3,4]\n",
    "eip_even_squares = {eip_x: eip_x ** 2 for eip_x in eip_nums if eip_x % 2 == 0}\n",
    "print(eip_even_squares)"
   ]
  },
  {
   "cell_type": "markdown",
   "metadata": {},
   "source": [
    "#### For list comprehension we used []  \n",
    "#### For dictionary comprehension we use {}"
   ]
  },
  {
   "cell_type": "code",
   "execution_count": 2,
   "metadata": {
    "collapsed": false
   },
   "outputs": [
    {
     "name": "stdout",
     "output_type": "stream",
     "text": [
      "True\n",
      "False\n",
      "True\n",
      "3\n",
      "3\n",
      "2\n"
     ]
    }
   ],
   "source": [
    "eip_animals = {'cat','dog'}\n",
    "print('cat' in eip_animals)\n",
    "print('fish' in eip_animals) #prints false since fish doesnt exist\n",
    "eip_animals.add('fish')\n",
    "print('fish' in eip_animals)\n",
    "print(len(eip_animals))\n",
    "eip_animals.add('cat') # cat already exists, adding it again to a set does nothing\n",
    "print(len(eip_animals))\n",
    "eip_animals.remove('cat') # removes cat from set\n",
    "print(len(eip_animals))"
   ]
  },
  {
   "cell_type": "code",
   "execution_count": 6,
   "metadata": {
    "collapsed": false
   },
   "outputs": [
    {
     "name": "stdout",
     "output_type": "stream",
     "text": [
      "#1: fish\n",
      "#2: cat\n",
      "#3: dog\n"
     ]
    }
   ],
   "source": [
    "eip_animals = {'cat','dog','fish'}\n",
    "for eip_idx, eip_animal in enumerate(eip_animals):\n",
    "    print('#%d: %s' % (eip_idx+1,eip_animal))\n",
    "    "
   ]
  },
  {
   "cell_type": "markdown",
   "metadata": {
    "collapsed": true
   },
   "source": [
    "#### Since sets are unordered, the elements when printed will be in different order"
   ]
  },
  {
   "cell_type": "code",
   "execution_count": 8,
   "metadata": {
    "collapsed": false
   },
   "outputs": [
    {
     "name": "stdout",
     "output_type": "stream",
     "text": [
      "{0, 1, 2, 3, 4, 5}\n"
     ]
    }
   ],
   "source": [
    "from math import sqrt\n",
    "eip_nums = {int(sqrt(eip_x)) for eip_x in range(30)}\n",
    "print(eip_nums)"
   ]
  },
  {
   "cell_type": "markdown",
   "metadata": {},
   "source": [
    "#### Though range returns 30 values, output has only 6 values.  \n",
    "#### It is because we used set comprehension, the repeated values will be showed only once"
   ]
  },
  {
   "cell_type": "code",
   "execution_count": 11,
   "metadata": {
    "collapsed": false
   },
   "outputs": [
    {
     "name": "stdout",
     "output_type": "stream",
     "text": [
      "<class 'tuple'>\n",
      "5\n",
      "1\n"
     ]
    }
   ],
   "source": [
    "eip_dict = {(eip_x, eip_x + 1) : eip_x for eip_x in range(10)}\n",
    "eip_t = (5,6)\n",
    "print(type(eip_t))\n",
    "print(eip_dict[eip_t])\n",
    "print(eip_dict[(1,2)])"
   ]
  },
  {
   "cell_type": "code",
   "execution_count": 16,
   "metadata": {
    "collapsed": false
   },
   "outputs": [
    {
     "name": "stdout",
     "output_type": "stream",
     "text": [
      "negative\n",
      "zero\n",
      "positive\n"
     ]
    }
   ],
   "source": [
    "def sign(eip_x):\n",
    "    if eip_x > 0 :\n",
    "        return 'positive'\n",
    "    elif eip_x < 0:\n",
    "        return 'negative'\n",
    "    else:\n",
    "        return 'zero'\n",
    "for eip_x in [-1,0,1]:\n",
    "    print(sign(eip_x))"
   ]
  },
  {
   "cell_type": "code",
   "execution_count": 20,
   "metadata": {
    "collapsed": false
   },
   "outputs": [
    {
     "name": "stdout",
     "output_type": "stream",
     "text": [
      "HELLO, Bob!\n",
      "HELLO, FRED!\n"
     ]
    }
   ],
   "source": [
    "def hello(eip_name, eip_loud=False):\n",
    "    if eip_loud:\n",
    "        print('HELLO, %s!' %eip_name.upper())\n",
    "    else:\n",
    "        print('HELLO, %s!' %eip_name)\n",
    "hello('Bob') #passing only one parameter\n",
    "hello('Fred',eip_loud=True) #passing two parameters"
   ]
  },
  {
   "cell_type": "code",
   "execution_count": 23,
   "metadata": {
    "collapsed": false
   },
   "outputs": [
    {
     "name": "stdout",
     "output_type": "stream",
     "text": [
      "Hello Fred!\n",
      "HELLO FRED!\n"
     ]
    }
   ],
   "source": [
    "class Greeter(object):\n",
    "    def __init__(self, eip_name):\n",
    "        self.eip_name = eip_name\n",
    "    def greet(self, eip_loud= False):\n",
    "        if eip_loud:\n",
    "            print('HELLO %s!' %self.eip_name.upper())\n",
    "        else:\n",
    "            print('Hello %s!' %self.eip_name)\n",
    "eip_g = Greeter('Fred')\n",
    "eip_g.greet()\n",
    "eip_g.greet(eip_loud=True) #throwing an error if this parameter name is not matching with the one in method definition"
   ]
  },
  {
   "cell_type": "code",
   "execution_count": 25,
   "metadata": {
    "collapsed": false
   },
   "outputs": [
    {
     "name": "stdout",
     "output_type": "stream",
     "text": [
      "<class 'numpy.ndarray'>\n",
      "(3,)\n",
      "1 2 3\n",
      "[5 2 3]\n",
      "(2, 3)\n",
      "1 2 4\n"
     ]
    }
   ],
   "source": [
    "import numpy as np\n",
    "\n",
    "mlblr_a = np.array([1,2,3])\n",
    "print(type(mlblr_a))\n",
    "print(mlblr_a.shape)\n",
    "print(mlblr_a[0],mlblr_a[1],mlblr_a[2])\n",
    "mlblr_a[0] = 5\n",
    "print(mlblr_a)\n",
    "\n",
    "mlblr_b = np.array([[1,2,3],[4,5,6]])\n",
    "print(mlblr_b.shape)\n",
    "print(mlblr_b[0,0],mlblr_b[0,1],mlblr_b[1,0])"
   ]
  },
  {
   "cell_type": "code",
   "execution_count": 26,
   "metadata": {
    "collapsed": false
   },
   "outputs": [
    {
     "name": "stdout",
     "output_type": "stream",
     "text": [
      "[[ 0.  0.]\n",
      " [ 0.  0.]]\n",
      "[[ 1.  1.]]\n",
      "[[7 7]\n",
      " [7 7]]\n",
      "[[ 1.  0.]\n",
      " [ 0.  1.]]\n",
      "[[ 0.35444737  0.64664186]\n",
      " [ 0.56131078  0.66000106]]\n"
     ]
    }
   ],
   "source": [
    "eip_a = np.zeros((2,2))\n",
    "print(eip_a)\n",
    "\n",
    "eip_b =np.ones([1,2])\n",
    "print(eip_b)\n",
    "\n",
    "eip_c = np.full((2,2),7)\n",
    "print(eip_c)\n",
    "\n",
    "eip_d = np.eye(2)\n",
    "print(eip_d)\n",
    "eip_e = np.random.random((2,2))\n",
    "print(eip_e)"
   ]
  },
  {
   "cell_type": "code",
   "execution_count": 27,
   "metadata": {
    "collapsed": false
   },
   "outputs": [
    {
     "name": "stdout",
     "output_type": "stream",
     "text": [
      "2\n",
      "70\n"
     ]
    }
   ],
   "source": [
    "eip_a = np.array([[1,2,3,4],[5,6,7,8],[9,10,11,12]])\n",
    "eip_b = eip_a[:2,1:3]\n",
    "print(eip_a[0,1])\n",
    "eip_b[0,0] = 70\n",
    "print(eip_a[0,1])"
   ]
  },
  {
   "cell_type": "markdown",
   "metadata": {
    "collapsed": true
   },
   "source": [
    "#### One important thing to note in the above code:  \n",
    "#### Changing eip_b[0,0] value has also changed eip_a[0,1].  \n",
    "#### This is because, eip_b is a slice of eip_a.  \n",
    "#### Any changes to the slice will impact the original array"
   ]
  },
  {
   "cell_type": "code",
   "execution_count": 31,
   "metadata": {
    "collapsed": false
   },
   "outputs": [
    {
     "name": "stdout",
     "output_type": "stream",
     "text": [
      "[5 6 7 8] (4,)\n",
      "[[5 6 7 8]] (1, 4)\n",
      "[ 2  6 10] (3,)\n",
      "[[ 2]\n",
      " [ 6]\n",
      " [10]] (3, 1)\n"
     ]
    }
   ],
   "source": [
    "eip_a = np.array([[1,2,3,4],[5,6,7,8],[9,10,11,12]])\n",
    "eip_row_r1 = eip_a[1,:]\n",
    "eip_row_r2 = eip_a[1:2,:]\n",
    "print(eip_row_r1, eip_row_r1.shape)\n",
    "print(eip_row_r2, eip_row_r2.shape)\n",
    "\n",
    "eip_col_r1 = eip_a[:,1]\n",
    "eip_col_r2 = eip_a[:,1:2]\n",
    "print(eip_col_r1, eip_col_r1.shape)\n",
    "print(eip_col_r2, eip_col_r2.shape)"
   ]
  },
  {
   "cell_type": "code",
   "execution_count": 32,
   "metadata": {
    "collapsed": false
   },
   "outputs": [
    {
     "name": "stdout",
     "output_type": "stream",
     "text": [
      "[1 4 5]\n",
      "[1 4 5]\n",
      "[2 2]\n",
      "[2 2]\n"
     ]
    }
   ],
   "source": [
    "eip_a = np.array([[1,2], [3, 4], [5, 6]])\n",
    "print(eip_a[[0, 1, 2], [0, 1, 0]])\n",
    "print(np.array([eip_a[0, 0], eip_a[1, 1], eip_a[2, 0]]))\n",
    "print(eip_a[[0, 0], [1, 1]])\n",
    "print(np.array([eip_a[0, 1], eip_a[0, 1]]))"
   ]
  },
  {
   "cell_type": "code",
   "execution_count": 34,
   "metadata": {
    "collapsed": false
   },
   "outputs": [
    {
     "name": "stdout",
     "output_type": "stream",
     "text": [
      "[[ 1  2  3]\n",
      " [ 4  5  6]\n",
      " [ 7  8  9]\n",
      " [10 11 12]]\n",
      "[ 1  6  7 11]\n",
      "[[11  2  3]\n",
      " [ 4  5 16]\n",
      " [17  8  9]\n",
      " [10 21 12]]\n"
     ]
    }
   ],
   "source": [
    "eip_a = np.array([[1,2,3], [4,5,6], [7,8,9], [10, 11, 12]])\n",
    "print(eip_a)\n",
    "eip_b = np.array([0, 2, 0, 1])\n",
    "print(eip_a[np.arange(4), eip_b])\n",
    "eip_a[np.arange(4), eip_b] += 10\n",
    "print(eip_a)"
   ]
  },
  {
   "cell_type": "code",
   "execution_count": 37,
   "metadata": {
    "collapsed": false
   },
   "outputs": [
    {
     "name": "stdout",
     "output_type": "stream",
     "text": [
      "[[False False]\n",
      " [ True  True]\n",
      " [ True  True]]\n",
      "[3 4 5 6]\n",
      "[3 4 5 6]\n"
     ]
    }
   ],
   "source": [
    "eip_a = np.array([[1,2], [3, 4], [5, 6]])\n",
    "eip_bool_idx = (eip_a > 2)\n",
    "print(eip_bool_idx)\n",
    "print(eip_a[eip_bool_idx])\n",
    "print(eip_a[eip_a > 2])"
   ]
  },
  {
   "cell_type": "code",
   "execution_count": 39,
   "metadata": {
    "collapsed": false
   },
   "outputs": [
    {
     "name": "stdout",
     "output_type": "stream",
     "text": [
      "int32\n",
      "float64\n",
      "int64\n"
     ]
    }
   ],
   "source": [
    "eip_x = np.array([1,2])\n",
    "print(eip_x.dtype)\n",
    "\n",
    "eip_x = np.array([1.0,2.0])\n",
    "print(eip_x.dtype)\n",
    "\n",
    "eip_x = np.array([1,2],dtype=np.int64)\n",
    "print(eip_x.dtype)"
   ]
  },
  {
   "cell_type": "code",
   "execution_count": 40,
   "metadata": {
    "collapsed": false
   },
   "outputs": [
    {
     "name": "stdout",
     "output_type": "stream",
     "text": [
      "[[  6.   8.]\n",
      " [ 10.  12.]]\n",
      "[[  6.   8.]\n",
      " [ 10.  12.]]\n",
      "[[-4. -4.]\n",
      " [-4. -4.]]\n",
      "[[-4. -4.]\n",
      " [-4. -4.]]\n",
      "[[  5.  12.]\n",
      " [ 21.  32.]]\n",
      "[[  5.  12.]\n",
      " [ 21.  32.]]\n",
      "[[ 0.2         0.33333333]\n",
      " [ 0.42857143  0.5       ]]\n",
      "[[ 0.2         0.33333333]\n",
      " [ 0.42857143  0.5       ]]\n",
      "[[ 1.          1.41421356]\n",
      " [ 1.73205081  2.        ]]\n"
     ]
    }
   ],
   "source": [
    "eip_x = np.array([[1,2],[3,4]], dtype=np.float64)\n",
    "eip_y = np.array([[5,6],[7,8]], dtype=np.float64)\n",
    "\n",
    "print(eip_x + eip_y)\n",
    "print(np.add(eip_x, eip_y))\n",
    "\n",
    "print(eip_x - eip_y)\n",
    "print(np.subtract(eip_x, eip_y))\n",
    "\n",
    "print(eip_x * eip_y)\n",
    "print(np.multiply(eip_x, eip_y))\n",
    "\n",
    "print(eip_x / eip_y)\n",
    "print(np.divide(eip_x, eip_y))\n",
    "\n",
    "print(np.sqrt(eip_x))\n",
    "\n"
   ]
  },
  {
   "cell_type": "code",
   "execution_count": 42,
   "metadata": {
    "collapsed": false
   },
   "outputs": [
    {
     "name": "stdout",
     "output_type": "stream",
     "text": [
      "219\n",
      "219\n",
      "[29 67]\n",
      "[29 67]\n",
      "[[19 22]\n",
      " [43 50]]\n",
      "[[19 22]\n",
      " [43 50]]\n"
     ]
    }
   ],
   "source": [
    "eip_x = np.array([[1,2],[3,4]])\n",
    "eip_y = np.array([[5,6],[7,8]])\n",
    "\n",
    "eip_v = np.array([9,10])\n",
    "eip_w = np.array([11, 12])\n",
    "\n",
    "print(eip_v.dot(eip_w))\n",
    "print(np.dot(eip_v, eip_w))\n",
    "\n",
    "print(eip_x.dot(eip_v))\n",
    "print(np.dot(eip_x, eip_v))\n",
    "\n",
    "print(eip_x.dot(eip_y))\n",
    "print(np.dot(eip_x, eip_y))\n"
   ]
  },
  {
   "cell_type": "code",
   "execution_count": 43,
   "metadata": {
    "collapsed": false
   },
   "outputs": [
    {
     "name": "stdout",
     "output_type": "stream",
     "text": [
      "10\n",
      "[4 6]\n",
      "[3 7]\n"
     ]
    }
   ],
   "source": [
    "eip_x = np.array([[1,2],[3,4]])\n",
    "print(np.sum(eip_x))\n",
    "print(np.sum(eip_x, axis=0))\n",
    "print(np.sum(eip_x, axis=1))"
   ]
  },
  {
   "cell_type": "code",
   "execution_count": 44,
   "metadata": {
    "collapsed": false
   },
   "outputs": [
    {
     "name": "stdout",
     "output_type": "stream",
     "text": [
      "[[1 2]\n",
      " [3 4]]\n",
      "[[1 3]\n",
      " [2 4]]\n",
      "[1 2 3]\n",
      "[1 2 3]\n"
     ]
    }
   ],
   "source": [
    "eip_x = np.array([[1,2], [3,4]])\n",
    "print(eip_x)\n",
    "print(eip_x.T)\n",
    "eip_v = np.array([1,2,3])\n",
    "print(eip_v)\n",
    "print(eip_v.T)"
   ]
  },
  {
   "cell_type": "code",
   "execution_count": 45,
   "metadata": {
    "collapsed": false
   },
   "outputs": [
    {
     "name": "stdout",
     "output_type": "stream",
     "text": [
      "[[ 2  2  4]\n",
      " [ 5  5  7]\n",
      " [ 8  8 10]\n",
      " [11 11 13]]\n"
     ]
    }
   ],
   "source": [
    "eip_x = np.array([[1,2,3], [4,5,6], [7,8,9], [10, 11, 12]])\n",
    "eip_v = np.array([1, 0, 1])\n",
    "eip_y = np.empty_like(eip_x)\n",
    "\n",
    "for eip_i in range(4):\n",
    "    eip_y[eip_i, :] = eip_x[eip_i, :] + eip_v\n",
    "\n",
    "print(eip_y)\n"
   ]
  },
  {
   "cell_type": "code",
   "execution_count": 47,
   "metadata": {
    "collapsed": false
   },
   "outputs": [
    {
     "name": "stdout",
     "output_type": "stream",
     "text": [
      "[[1 0 1]\n",
      " [1 0 1]\n",
      " [1 0 1]\n",
      " [1 0 1]]\n",
      "[[ 2  2  4]\n",
      " [ 5  5  7]\n",
      " [ 8  8 10]\n",
      " [11 11 13]]\n"
     ]
    }
   ],
   "source": [
    "eip_x = np.array([[1,2,3], [4,5,6], [7,8,9], [10, 11, 12]])\n",
    "eip_v = np.array([1, 0, 1])\n",
    "eip_vv = np.tile(eip_v, (4, 1))\n",
    "print(eip_vv)\n",
    "eip_y = eip_x + eip_vv\n",
    "print(eip_y)\n",
    "\n"
   ]
  },
  {
   "cell_type": "code",
   "execution_count": 49,
   "metadata": {
    "collapsed": false
   },
   "outputs": [
    {
     "name": "stdout",
     "output_type": "stream",
     "text": [
      "[[ 2  2  4]\n",
      " [ 5  5  7]\n",
      " [ 8  8 10]\n",
      " [11 11 13]]\n"
     ]
    }
   ],
   "source": [
    "eip_x = np.array([[1,2,3], [4,5,6], [7,8,9], [10, 11, 12]])\n",
    "eip_v = np.array([1, 0, 1])\n",
    "eip_y = eip_x + eip_v\n",
    "print(eip_y)"
   ]
  },
  {
   "cell_type": "code",
   "execution_count": 50,
   "metadata": {
    "collapsed": false
   },
   "outputs": [
    {
     "name": "stdout",
     "output_type": "stream",
     "text": [
      "[[ 4  5]\n",
      " [ 8 10]\n",
      " [12 15]]\n",
      "[[2 4 6]\n",
      " [5 7 9]]\n",
      "[[ 5  6  7]\n",
      " [ 9 10 11]]\n",
      "[[ 5  6  7]\n",
      " [ 9 10 11]]\n",
      "[[ 2  4  6]\n",
      " [ 8 10 12]]\n"
     ]
    }
   ],
   "source": [
    "eip_v = np.array([1,2,3])\n",
    "eip_w = np.array([4,5])\n",
    "print(np.reshape(eip_v, (3, 1)) * eip_w)\n",
    "\n",
    "eip_x = np.array([[1,2,3], [4,5,6]])\n",
    "print(eip_x + eip_v)\n",
    "\n",
    "print((eip_x.T + eip_w).T)\n",
    "\n",
    "print(eip_x + np.reshape(eip_w, (2, 1)))\n",
    "\n",
    "print(eip_x * 2)\n"
   ]
  },
  {
   "cell_type": "code",
   "execution_count": 60,
   "metadata": {
    "collapsed": false
   },
   "outputs": [
    {
     "name": "stdout",
     "output_type": "stream",
     "text": [
      "uint8 (633, 1656, 4)\n"
     ]
    }
   ],
   "source": [
    "from scipy.misc import imread, imsave, imresize\n",
    "\n",
    "mlblr_img = imread('images/image.png')\n",
    "print(mlblr_img.dtype, mlblr_img.shape)  \n",
    "mlblr_img_tinted = mlblr_img * [1, 0.95, 0.9,1]\n",
    "mlblr_img_tinted = imresize(mlblr_img_tinted, (300, 300))\n",
    "imsave('images/image.png', mlblr_img_tinted)"
   ]
  },
  {
   "cell_type": "code",
   "execution_count": 62,
   "metadata": {
    "collapsed": false
   },
   "outputs": [
    {
     "name": "stdout",
     "output_type": "stream",
     "text": [
      "[[0 1]\n",
      " [1 0]\n",
      " [2 0]]\n",
      "[[ 0.          1.41421356  2.23606798]\n",
      " [ 1.41421356  0.          1.        ]\n",
      " [ 2.23606798  1.          0.        ]]\n"
     ]
    }
   ],
   "source": [
    "import numpy as np\n",
    "from scipy.spatial.distance import pdist, squareform\n",
    "eip_x = np.array([[0, 1], [1, 0], [2, 0]])\n",
    "print(eip_x)\n",
    "eip_d = squareform(pdist(eip_x, 'euclidean'))\n",
    "print(eip_d)"
   ]
  },
  {
   "cell_type": "code",
   "execution_count": 63,
   "metadata": {
    "collapsed": false
   },
   "outputs": [
    {
     "data": {
      "image/png": "[encoded data removed]",
      "text/plain": [
       "<matplotlib.figure.Figure at 0x1b9ffe500b8>"
      ]
     },
     "metadata": {},
     "output_type": "display_data"
    }
   ],
   "source": [
    "import numpy as np\n",
    "import matplotlib.pyplot as plt\n",
    "eip_x = np.arange(0, 3 * np.pi, 0.1)\n",
    "eip_y = np.sin(eip_x)\n",
    "plt.plot(eip_x,eip_y)\n",
    "plt.show() "
   ]
  },
  {
   "cell_type": "code",
   "execution_count": 64,
   "metadata": {
    "collapsed": false
   },
   "outputs": [
    {
     "data": {
      "image/png": "[encoded data removed]",
      "text/plain": [
       "<matplotlib.figure.Figure at 0x1b9881f9550>"
      ]
     },
     "metadata": {},
     "output_type": "display_data"
    }
   ],
   "source": [
    "import numpy as np\n",
    "import matplotlib.pyplot as plt\n",
    "eip_x = np.arange(0, 3 * np.pi, 0.1)\n",
    "eip_y_sin = np.sin(eip_x)\n",
    "eip_y_cos = np.cos(eip_x)\n",
    "plt.plot(eip_x, eip_y_sin)\n",
    "plt.plot(eip_x,eip_y_cos)\n",
    "plt.xlabel('x axis label')\n",
    "plt.ylabel('y axis label')\n",
    "plt.title('Sine and Cosine')\n",
    "plt.legend(['Sine', 'Cosine'])\n",
    "plt.show()\n"
   ]
  },
  {
   "cell_type": "code",
   "execution_count": 65,
   "metadata": {
    "collapsed": false
   },
   "outputs": [
    {
     "data": {
      "image/png": "[encoded data removed]",
      "text/plain": [
       "<matplotlib.figure.Figure at 0x1b9881c72b0>"
      ]
     },
     "metadata": {},
     "output_type": "display_data"
    }
   ],
   "source": [
    "import numpy as np\n",
    "import matplotlib.pyplot as plt\n",
    "eip_x = np.arange(0, 3 * np.pi, 0.1)\n",
    "eip_y_sin = np.sin(eip_x)\n",
    "eip_y_cos = np.cos(eip_x)\n",
    "plt.subplot(2, 1, 1)\n",
    "plt.plot(eip_x, eip_y_sin)\n",
    "plt.title('Sine')\n",
    "plt.subplot(2, 1, 2)\n",
    "plt.plot(eip_x, eip_y_cos)\n",
    "plt.title('Cosine')\n",
    "plt.show()"
   ]
  },
  {
   "cell_type": "code",
   "execution_count": 69,
   "metadata": {
    "collapsed": false
   },
   "outputs": [
    {
     "data": {
      "image/png": "[encoded data removed]",
      "text/plain": [
       "<matplotlib.figure.Figure at 0x1b9ffdeac18>"
      ]
     },
     "metadata": {},
     "output_type": "display_data"
    }
   ],
   "source": [
    "import numpy as np\n",
    "from scipy.misc import imread, imresize\n",
    "import matplotlib.pyplot as plt\n",
    "eip_img = imread('images/image.png')\n",
    "eip_img_tinted = eip_img * [1, 0.95, 0.9,1]\n",
    "plt.subplot(1, 2, 1)\n",
    "plt.imshow(eip_img)\n",
    "plt.subplot(1, 2, 2)\n",
    "plt.imshow(np.uint8(eip_img_tinted))\n",
    "plt.show()"
   ]
  },
  {
   "cell_type": "code",
   "execution_count": null,
   "metadata": {
    "collapsed": true
   },
   "outputs": [],
   "source": []
  }
 ],
 "metadata": {
  "kernelspec": {
   "display_name": "Python 3",
   "language": "python",
   "name": "python3"
  },
  "language_info": {
   "codemirror_mode": {
    "name": "ipython",
    "version": 3
   },
   "file_extension": ".py",
   "mimetype": "text/x-python",
   "name": "python",
   "nbconvert_exporter": "python",
   "pygments_lexer": "ipython3",
   "version": "3.6.2"
  }
 },
 "nbformat": 4,
 "nbformat_minor": 2
}
